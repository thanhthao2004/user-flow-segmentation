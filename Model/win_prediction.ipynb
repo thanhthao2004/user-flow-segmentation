{
 "cells": [
  {
   "cell_type": "markdown",
   "metadata": {},
   "source": [
    "### Training model"
   ]
  },
  {
   "cell_type": "code",
   "execution_count": 7,
   "metadata": {},
   "outputs": [
    {
     "name": "stdout",
     "output_type": "stream",
     "text": [
      "        level  day_diff mode_game  win  quantity version\n",
      "0           1       0.0    normal  0.0        31   1.6.0\n",
      "1           1       0.0    normal  1.0        18   1.6.0\n",
      "2           2       0.0    normal  1.0        10   1.6.0\n",
      "3           3       0.0    normal  1.0         9   1.6.0\n",
      "4           4       0.0    normal  1.0         8   1.6.0\n",
      "...       ...       ...       ...  ...       ...     ...\n",
      "243692      4       6.0    normal  1.0        19   1.6.0\n",
      "243693      6       6.0    normal  1.0         7   1.6.0\n",
      "243694      5       6.0    normal  1.0        12   1.6.0\n",
      "243695      1       6.0    normal  1.0        14   1.6.0\n",
      "243696      3       6.0    normal  1.0         3   1.6.0\n",
      "\n",
      "[243697 rows x 6 columns]\n"
     ]
    }
   ],
   "source": [
    "import pandas as pd\n",
    "df = pd.read_csv('../Data/Data_WinPrediction.csv')\n",
    "#df = pd.read_csv('Data_Changed.csv').drop(['unnamed 0'],axis=1)\n",
    "\n",
    "\n",
    "print(df)"
   ]
  },
  {
   "cell_type": "code",
   "execution_count": 8,
   "metadata": {},
   "outputs": [
    {
     "name": "stdout",
     "output_type": "stream",
     "text": [
      "NaN Values in win column before encoding: 0\n",
      "NaN Values in win column after encoding: 0\n"
     ]
    }
   ],
   "source": [
    "# One-hot encoding cho các cột phân loại\n",
    "from sklearn.preprocessing import OneHotEncoder\n",
    "categorical_cols = ['mode_game', 'version']\n",
    "encoder = OneHotEncoder(handle_unknown='ignore', sparse_output=False)\n",
    "\n",
    "\n",
    "encoded_data = encoder.fit_transform(df[categorical_cols])\n",
    "encoded_df = pd.DataFrame(\n",
    "    encoded_data, \n",
    "    columns=encoder.get_feature_names_out(categorical_cols),\n",
    "    index=df.index  # Keep the original index!\n",
    ")\n",
    "\n",
    "\n",
    "# 2. Drop the original categorical columns from df:\n",
    "df.drop(columns=categorical_cols, inplace=True)\n",
    "\n",
    "# 3. Join encoded df back to original df while aligning indices:\n",
    "df = df.join(encoded_df)\n",
    "\n",
    "# Verification Step:\n",
    "print(f\"NaN Values in win column before encoding: {df['win'].isna().sum()}\")\n",
    "print(f\"NaN Values in win column after encoding: {df['win'].isna().sum()}\")"
   ]
  },
  {
   "cell_type": "code",
   "execution_count": 9,
   "metadata": {},
   "outputs": [
    {
     "name": "stdout",
     "output_type": "stream",
     "text": [
      "126284.0\n"
     ]
    }
   ],
   "source": [
    "# Chia dữ liệu thành tập huấn luyện và tập kiểm tra\n",
    "from sklearn.model_selection import train_test_split\n",
    "y = df['win']\n",
    "print(y.sum())\n",
    "X = df.drop(columns=['win'])\n",
    "\n",
    "X_train, X_test, y_train, y_test = train_test_split(X, y, test_size=0.2, random_state=42)\n"
   ]
  },
  {
   "cell_type": "code",
   "execution_count": 10,
   "metadata": {},
   "outputs": [
    {
     "name": "stdout",
     "output_type": "stream",
     "text": [
      "        level  day_diff  quantity  mode_game_normal  version_1.5.2  \\\n",
      "43080      11       0.0        64               1.0            0.0   \n",
      "224948     13       3.0        13               1.0            1.0   \n",
      "180083     13       3.0        19               1.0            1.0   \n",
      "12562     191       5.0        11               1.0            1.0   \n",
      "111943     12       0.0        25               1.0            1.0   \n",
      "...       ...       ...       ...               ...            ...   \n",
      "240706     54       1.0       169               1.0            0.0   \n",
      "6830        5       1.0        37               1.0            0.0   \n",
      "37359       2       0.0         9               1.0            1.0   \n",
      "223044      7       0.0        14               1.0            1.0   \n",
      "169399     11       0.0        18               1.0            1.0   \n",
      "\n",
      "        version_1.6.0  \n",
      "43080             1.0  \n",
      "224948            0.0  \n",
      "180083            0.0  \n",
      "12562             0.0  \n",
      "111943            0.0  \n",
      "...               ...  \n",
      "240706            1.0  \n",
      "6830              1.0  \n",
      "37359             0.0  \n",
      "223044            0.0  \n",
      "169399            0.0  \n",
      "\n",
      "[48740 rows x 6 columns]\n"
     ]
    }
   ],
   "source": [
    "print(X_test)"
   ]
  },
  {
   "cell_type": "code",
   "execution_count": 11,
   "metadata": {},
   "outputs": [
    {
     "name": "stdout",
     "output_type": "stream",
     "text": [
      "Accuracy: 0.78\n",
      "\n",
      "Classification Report:\n",
      "\n",
      "              precision    recall  f1-score   support\n",
      "\n",
      "         0.0       0.79      0.74      0.77     23486\n",
      "         1.0       0.77      0.82      0.80     25254\n",
      "\n",
      "    accuracy                           0.78     48740\n",
      "   macro avg       0.78      0.78      0.78     48740\n",
      "weighted avg       0.78      0.78      0.78     48740\n",
      "\n",
      "\n",
      "Confusion Matrix:\n",
      "\n",
      "[[17484  6002]\n",
      " [ 4587 20667]]\n"
     ]
    }
   ],
   "source": [
    "import pandas as pd\n",
    "from sklearn.model_selection import train_test_split\n",
    "from sklearn.tree import DecisionTreeClassifier\n",
    "from sklearn.metrics import accuracy_score, classification_report, confusion_matrix\n",
    "from sklearn.preprocessing import OneHotEncoder\n",
    "from sklearn.tree import export_graphviz\n",
    "import graphviz\n",
    "\n",
    "# Xây dựng mô hình Decision Tree\n",
    "model = DecisionTreeClassifier(random_state=42)  # Thêm random_state để tái lặp kết quả\n",
    "model.fit(X_train, y_train)\n",
    "\n",
    "# Dự đoán trên tập kiểm tra\n",
    "y_pred = model.predict(X_test)\n",
    "\n",
    "# Đánh giá mô hình\n",
    "accuracy = accuracy_score(y_test, y_pred)\n",
    "print(f'Accuracy: {accuracy:.2f}')\n",
    "print(\"\\nClassification Report:\\n\")\n",
    "print(classification_report(y_test, y_pred))\n",
    "print(\"\\nConfusion Matrix:\\n\")\n",
    "print(confusion_matrix(y_test, y_pred))\n",
    "\n",
    "# Trực quan hóa cây quyết định (nếu cần)\n",
    "dot_data = export_graphviz(model, out_file=None, feature_names=X.columns, class_names=['Lose', 'Win'], filled=True, rounded=True, special_characters=True)"
   ]
  },
  {
   "cell_type": "code",
   "execution_count": 12,
   "metadata": {},
   "outputs": [
    {
     "name": "stdout",
     "output_type": "stream",
     "text": [
      "[0.]\n"
     ]
    },
    {
     "name": "stderr",
     "output_type": "stream",
     "text": [
      "/opt/homebrew/lib/python3.11/site-packages/sklearn/base.py:465: UserWarning: X does not have valid feature names, but DecisionTreeClassifier was fitted with feature names\n",
      "  warnings.warn(\n"
     ]
    }
   ],
   "source": [
    "output = model.predict([[ 1 ,0.0        ,64           ,    1.0    ,        0.0   ,1]])\n",
    "print(output)"
   ]
  }
 ],
 "metadata": {
  "kernelspec": {
   "display_name": "Python 3",
   "language": "python",
   "name": "python3"
  },
  "language_info": {
   "codemirror_mode": {
    "name": "ipython",
    "version": 3
   },
   "file_extension": ".py",
   "mimetype": "text/x-python",
   "name": "python",
   "nbconvert_exporter": "python",
   "pygments_lexer": "ipython3",
   "version": "3.11.9"
  }
 },
 "nbformat": 4,
 "nbformat_minor": 2
}
